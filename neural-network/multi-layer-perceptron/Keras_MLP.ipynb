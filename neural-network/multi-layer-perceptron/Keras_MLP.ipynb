{
 "cells": [
  {
   "cell_type": "code",
   "execution_count": 79,
   "metadata": {},
   "outputs": [],
   "source": [
    "import numpy as np"
   ]
  },
  {
   "cell_type": "code",
   "execution_count": 80,
   "metadata": {},
   "outputs": [],
   "source": [
    "import matplotlib.pyplot as plt\n",
    "%matplotlib inline\n",
    "plt.style.use('ggplot')"
   ]
  },
  {
   "cell_type": "code",
   "execution_count": 81,
   "metadata": {},
   "outputs": [],
   "source": [
    "from keras.datasets import mnist\n",
    "from keras.utils import to_categorical"
   ]
  },
  {
   "cell_type": "code",
   "execution_count": 82,
   "metadata": {},
   "outputs": [],
   "source": [
    "from IPython.display import SVG\n",
    "from keras.utils.vis_utils import model_to_dot"
   ]
  },
  {
   "cell_type": "code",
   "execution_count": 83,
   "metadata": {},
   "outputs": [],
   "source": [
    "np.random.seed(0)"
   ]
  },
  {
   "cell_type": "code",
   "execution_count": 84,
   "metadata": {},
   "outputs": [],
   "source": [
    "# Data Preparation"
   ]
  },
  {
   "cell_type": "code",
   "execution_count": 85,
   "metadata": {},
   "outputs": [],
   "source": [
    "(X_train, Y_train), (X_validation, Y_validation) = mnist.load_data()"
   ]
  },
  {
   "cell_type": "code",
   "execution_count": 86,
   "metadata": {},
   "outputs": [
    {
     "data": {
      "image/png": "[encoded data removed]",
      "text/plain": [
       "<matplotlib.figure.Figure at 0x7f294c0e5c88>"
      ]
     },
     "metadata": {},
     "output_type": "display_data"
    }
   ],
   "source": [
    "fig = plt.figure(figsize=(9, 15))\n",
    "fig.subplots_adjust(left=0, right=1)\n",
    "\n",
    "for i in range(9):\n",
    "    ax = fig.add_subplot(1, 9, i+1, xticks=[], yticks=[])\n",
    "    index = np.random.randint(0, len(X_train))\n",
    "    ax.set_title(str(Y_train[index]))\n",
    "    ax.imshow(X_train[index], cmap='gray')"
   ]
  },
  {
   "cell_type": "code",
   "execution_count": 87,
   "metadata": {},
   "outputs": [],
   "source": [
    "X_train = X_train.reshape(-1, 28*28)\n",
    "X_validation = X_validation.reshape(-1, 28*28)"
   ]
  },
  {
   "cell_type": "code",
   "execution_count": 88,
   "metadata": {},
   "outputs": [],
   "source": [
    "Y_train = to_categorical(Y_train)\n",
    "Y_validation = to_categorical(Y_validation)"
   ]
  },
  {
   "cell_type": "code",
   "execution_count": 89,
   "metadata": {},
   "outputs": [],
   "source": [
    "# Building a model"
   ]
  },
  {
   "cell_type": "code",
   "execution_count": 90,
   "metadata": {},
   "outputs": [],
   "source": [
    "class MLP(object):\n",
    "    def __init__(self, dim_input, dim_output):\n",
    "        self._model = None\n",
    "        \n",
    "        self.dim_input = dim_input # Dimension of each input data\n",
    "        self.dim_output = dim_output # Dimension of each output data\n",
    "        \n",
    "    def inference(self):\n",
    "        from keras.models import Model\n",
    "        from keras.layers import Input, Dense, Activation\n",
    "        \n",
    "        # Input Layer\n",
    "        inputs = Input(shape=(self.dim_input, ))\n",
    "        \n",
    "        # Hidden Layer\n",
    "        x = Dense(units=256)(inputs) # dim_input -> 256\n",
    "        x = Activation('relu')(x)\n",
    "        \n",
    "        x = Dense(units=100)(x) # 256 -> 100\n",
    "        x = Activation('relu')(x)\n",
    "        \n",
    "        # Output Layer\n",
    "        x = Dense(units=self.dim_output)(x) # 100 -> dim_output\n",
    "        predictions = Activation('softmax')(x)\n",
    "        \n",
    "        return Model(inputs=inputs, outputs=predictions)        \n",
    " \n",
    "    def predict(self, X, batch_size):\n",
    "        return self._model.predict(X, batch_size=batch_size)\n",
    "\n",
    "    def compile(self):\n",
    "        self._model = self.inference()\n",
    "        self._model.compile(loss='categorical_crossentropy',\n",
    "                            optimizer='sgd',\n",
    "                            metrics=['accuracy'])\n",
    "        \n",
    "    def fit(self, X_train, Y_train, X_validation, Y_validation, epochs, batch_size, verbose=1):\n",
    "        history = self._model.fit(X_train,\n",
    "                                  Y_train,\n",
    "                                  batch_size=batch_size,\n",
    "                                  epochs=epochs,\n",
    "                                  verbose=verbose,\n",
    "                                  validation_data=(X_validation, Y_validation))\n",
    "        \n",
    "        return history\n",
    "    \n",
    "    def show_graph(self):\n",
    "        return model_to_dot(self._model).create(prog='dot', format='svg')"
   ]
  },
  {
   "cell_type": "code",
   "execution_count": 91,
   "metadata": {},
   "outputs": [],
   "source": [
    "model = MLP(dim_input=784, dim_output=10)"
   ]
  },
  {
   "cell_type": "code",
   "execution_count": 92,
   "metadata": {},
   "outputs": [],
   "source": [
    "model.compile()"
   ]
  },
  {
   "cell_type": "code",
   "execution_count": 93,
   "metadata": {},
   "outputs": [
    {
     "data": {
      "image/svg+xml": [
       "<svg height=\"483pt\" viewBox=\"0.00 0.00 204.00 483.00\" width=\"204pt\" xmlns=\"http://www.w3.org/2000/svg\" xmlns:xlink=\"http://www.w3.org/1999/xlink\">\n",
       "<g class=\"graph\" id=\"graph0\" transform=\"scale(1 1) rotate(0) translate(4 479)\">\n",
       "<title>G</title>\n",
       "<polygon fill=\"white\" points=\"-4,4 -4,-479 200,-479 200,4 -4,4\" stroke=\"none\"/>\n",
       "<!-- 139817436727392 -->\n",
       "<g class=\"node\" id=\"node1\"><title>139817436727392</title>\n",
       "<polygon fill=\"none\" points=\"18,-438.5 18,-474.5 178,-474.5 178,-438.5 18,-438.5\" stroke=\"black\"/>\n",
       "<text font-family=\"Times,serif\" font-size=\"14.00\" text-anchor=\"middle\" x=\"98\" y=\"-452.8\">input_4: InputLayer</text>\n",
       "</g>\n",
       "<!-- 139817436728456 -->\n",
       "<g class=\"node\" id=\"node2\"><title>139817436728456</title>\n",
       "<polygon fill=\"none\" points=\"29.5,-365.5 29.5,-401.5 166.5,-401.5 166.5,-365.5 29.5,-365.5\" stroke=\"black\"/>\n",
       "<text font-family=\"Times,serif\" font-size=\"14.00\" text-anchor=\"middle\" x=\"98\" y=\"-379.8\">dense_10: Dense</text>\n",
       "</g>\n",
       "<!-- 139817436727392&#45;&gt;139817436728456 -->\n",
       "<g class=\"edge\" id=\"edge1\"><title>139817436727392-&gt;139817436728456</title>\n",
       "<path d=\"M98,-438.313C98,-430.289 98,-420.547 98,-411.569\" fill=\"none\" stroke=\"black\"/>\n",
       "<polygon fill=\"black\" points=\"101.5,-411.529 98,-401.529 94.5001,-411.529 101.5,-411.529\" stroke=\"black\"/>\n",
       "</g>\n",
       "<!-- 139817437270760 -->\n",
       "<g class=\"node\" id=\"node3\"><title>139817437270760</title>\n",
       "<polygon fill=\"none\" points=\"-1.42109e-14,-292.5 -1.42109e-14,-328.5 196,-328.5 196,-292.5 -1.42109e-14,-292.5\" stroke=\"black\"/>\n",
       "<text font-family=\"Times,serif\" font-size=\"14.00\" text-anchor=\"middle\" x=\"98\" y=\"-306.8\">activation_10: Activation</text>\n",
       "</g>\n",
       "<!-- 139817436728456&#45;&gt;139817437270760 -->\n",
       "<g class=\"edge\" id=\"edge2\"><title>139817436728456-&gt;139817437270760</title>\n",
       "<path d=\"M98,-365.313C98,-357.289 98,-347.547 98,-338.569\" fill=\"none\" stroke=\"black\"/>\n",
       "<polygon fill=\"black\" points=\"101.5,-338.529 98,-328.529 94.5001,-338.529 101.5,-338.529\" stroke=\"black\"/>\n",
       "</g>\n",
       "<!-- 139815346007456 -->\n",
       "<g class=\"node\" id=\"node4\"><title>139815346007456</title>\n",
       "<polygon fill=\"none\" points=\"29.5,-219.5 29.5,-255.5 166.5,-255.5 166.5,-219.5 29.5,-219.5\" stroke=\"black\"/>\n",
       "<text font-family=\"Times,serif\" font-size=\"14.00\" text-anchor=\"middle\" x=\"98\" y=\"-233.8\">dense_11: Dense</text>\n",
       "</g>\n",
       "<!-- 139817437270760&#45;&gt;139815346007456 -->\n",
       "<g class=\"edge\" id=\"edge3\"><title>139817437270760-&gt;139815346007456</title>\n",
       "<path d=\"M98,-292.313C98,-284.289 98,-274.547 98,-265.569\" fill=\"none\" stroke=\"black\"/>\n",
       "<polygon fill=\"black\" points=\"101.5,-265.529 98,-255.529 94.5001,-265.529 101.5,-265.529\" stroke=\"black\"/>\n",
       "</g>\n",
       "<!-- 139815385205112 -->\n",
       "<g class=\"node\" id=\"node5\"><title>139815385205112</title>\n",
       "<polygon fill=\"none\" points=\"-1.42109e-14,-146.5 -1.42109e-14,-182.5 196,-182.5 196,-146.5 -1.42109e-14,-146.5\" stroke=\"black\"/>\n",
       "<text font-family=\"Times,serif\" font-size=\"14.00\" text-anchor=\"middle\" x=\"98\" y=\"-160.8\">activation_11: Activation</text>\n",
       "</g>\n",
       "<!-- 139815346007456&#45;&gt;139815385205112 -->\n",
       "<g class=\"edge\" id=\"edge4\"><title>139815346007456-&gt;139815385205112</title>\n",
       "<path d=\"M98,-219.313C98,-211.289 98,-201.547 98,-192.569\" fill=\"none\" stroke=\"black\"/>\n",
       "<polygon fill=\"black\" points=\"101.5,-192.529 98,-182.529 94.5001,-192.529 101.5,-192.529\" stroke=\"black\"/>\n",
       "</g>\n",
       "<!-- 139815389311048 -->\n",
       "<g class=\"node\" id=\"node6\"><title>139815389311048</title>\n",
       "<polygon fill=\"none\" points=\"29.5,-73.5 29.5,-109.5 166.5,-109.5 166.5,-73.5 29.5,-73.5\" stroke=\"black\"/>\n",
       "<text font-family=\"Times,serif\" font-size=\"14.00\" text-anchor=\"middle\" x=\"98\" y=\"-87.8\">dense_12: Dense</text>\n",
       "</g>\n",
       "<!-- 139815385205112&#45;&gt;139815389311048 -->\n",
       "<g class=\"edge\" id=\"edge5\"><title>139815385205112-&gt;139815389311048</title>\n",
       "<path d=\"M98,-146.313C98,-138.289 98,-128.547 98,-119.569\" fill=\"none\" stroke=\"black\"/>\n",
       "<polygon fill=\"black\" points=\"101.5,-119.529 98,-109.529 94.5001,-119.529 101.5,-119.529\" stroke=\"black\"/>\n",
       "</g>\n",
       "<!-- 139817437215376 -->\n",
       "<g class=\"node\" id=\"node7\"><title>139817437215376</title>\n",
       "<polygon fill=\"none\" points=\"-1.42109e-14,-0.5 -1.42109e-14,-36.5 196,-36.5 196,-0.5 -1.42109e-14,-0.5\" stroke=\"black\"/>\n",
       "<text font-family=\"Times,serif\" font-size=\"14.00\" text-anchor=\"middle\" x=\"98\" y=\"-14.8\">activation_12: Activation</text>\n",
       "</g>\n",
       "<!-- 139815389311048&#45;&gt;139817437215376 -->\n",
       "<g class=\"edge\" id=\"edge6\"><title>139815389311048-&gt;139817437215376</title>\n",
       "<path d=\"M98,-73.3129C98,-65.2895 98,-55.5475 98,-46.5691\" fill=\"none\" stroke=\"black\"/>\n",
       "<polygon fill=\"black\" points=\"101.5,-46.5288 98,-36.5288 94.5001,-46.5289 101.5,-46.5288\" stroke=\"black\"/>\n",
       "</g>\n",
       "</g>\n",
       "</svg>"
      ],
      "text/plain": [
       "<IPython.core.display.SVG object>"
      ]
     },
     "execution_count": 93,
     "metadata": {},
     "output_type": "execute_result"
    }
   ],
   "source": [
    "SVG(model.show_graph())"
   ]
  },
  {
   "cell_type": "code",
   "execution_count": 94,
   "metadata": {},
   "outputs": [],
   "source": [
    "# Training the model"
   ]
  },
  {
   "cell_type": "code",
   "execution_count": 95,
   "metadata": {},
   "outputs": [
    {
     "name": "stdout",
     "output_type": "stream",
     "text": [
      "Train on 60000 samples, validate on 10000 samples\n",
      "Epoch 1/10\n",
      "60000/60000 [==============================] - 4s 63us/step - loss: 8.4610 - acc: 0.4641 - val_loss: 4.9858 - val_acc: 0.6780\n",
      "Epoch 2/10\n",
      "60000/60000 [==============================] - 0s 7us/step - loss: 4.2123 - acc: 0.7280 - val_loss: 3.5025 - val_acc: 0.7692\n",
      "Epoch 3/10\n",
      "60000/60000 [==============================] - 0s 7us/step - loss: 2.8659 - acc: 0.8103 - val_loss: 2.5289 - val_acc: 0.8323\n",
      "Epoch 4/10\n",
      "60000/60000 [==============================] - 0s 7us/step - loss: 2.4720 - acc: 0.8366 - val_loss: 2.3471 - val_acc: 0.8453\n",
      "Epoch 5/10\n",
      "60000/60000 [==============================] - 0s 7us/step - loss: 2.3251 - acc: 0.8469 - val_loss: 2.2791 - val_acc: 0.8489\n",
      "Epoch 6/10\n",
      "60000/60000 [==============================] - 0s 7us/step - loss: 2.2020 - acc: 0.8551 - val_loss: 2.2931 - val_acc: 0.8476\n",
      "Epoch 7/10\n",
      "60000/60000 [==============================] - 0s 7us/step - loss: 2.1363 - acc: 0.8599 - val_loss: 2.2129 - val_acc: 0.8531\n",
      "Epoch 8/10\n",
      "60000/60000 [==============================] - 0s 7us/step - loss: 2.0766 - acc: 0.8645 - val_loss: 2.1469 - val_acc: 0.8585\n",
      "Epoch 9/10\n",
      "60000/60000 [==============================] - 0s 7us/step - loss: 2.0373 - acc: 0.8674 - val_loss: 2.1263 - val_acc: 0.8589\n",
      "Epoch 10/10\n",
      "60000/60000 [==============================] - 0s 7us/step - loss: 1.9968 - acc: 0.8701 - val_loss: 2.1089 - val_acc: 0.8615\n"
     ]
    }
   ],
   "source": [
    "history = model.fit(X_train,\n",
    "                    Y_train,\n",
    "                    X_validation,\n",
    "                    Y_validation,\n",
    "                    epochs=10,\n",
    "                    batch_size=1000)"
   ]
  },
  {
   "cell_type": "code",
   "execution_count": 96,
   "metadata": {},
   "outputs": [],
   "source": [
    "# Confirmation the result"
   ]
  },
  {
   "cell_type": "code",
   "execution_count": 97,
   "metadata": {},
   "outputs": [],
   "source": [
    "def show_graph(history, key, title=None, xlabel=None, ylabel=None, yscale=None):\n",
    "    fig = plt.figure(figsize=(16, 4))\n",
    "    ax = fig.add_subplot(111)\n",
    "    ax.plot(history[key])\n",
    "\n",
    "    if title:\n",
    "        ax.set_title(title)\n",
    "    if xlabel:\n",
    "        ax.set_xlabel(xlabel)\n",
    "    if ylabel:\n",
    "        ax.set_ylabel(ylabel)\n",
    "\n",
    "    if yscale:\n",
    "        plt.yscale(yscale)\n",
    "\n",
    "    plt.show()"
   ]
  },
  {
   "cell_type": "code",
   "execution_count": 99,
   "metadata": {},
   "outputs": [
    {
     "data": {
      "image/png": "[encoded data removed]",
      "text/plain": [
       "<matplotlib.figure.Figure at 0x7f294e5cc198>"
      ]
     },
     "metadata": {},
     "output_type": "display_data"
    }
   ],
   "source": [
    "show_graph(history.history, 'val_loss', 'Validation Loss', 'Iteration', 'Validation Loss', 'log')"
   ]
  },
  {
   "cell_type": "code",
   "execution_count": 100,
   "metadata": {},
   "outputs": [
    {
     "data": {
      "image/png": "[encoded data removed]",
      "text/plain": [
       "<matplotlib.figure.Figure at 0x7f29c8a30550>"
      ]
     },
     "metadata": {},
     "output_type": "display_data"
    }
   ],
   "source": [
    "show_graph(history.history, 'val_acc', 'Validation Accuracy', 'Iteration', 'Validation Accuracy', 'log')"
   ]
  },
  {
   "cell_type": "code",
   "execution_count": 104,
   "metadata": {},
   "outputs": [
    {
     "data": {
      "image/png": "[encoded data removed]",
      "text/plain": [
       "<matplotlib.figure.Figure at 0x7f29c8834748>"
      ]
     },
     "metadata": {},
     "output_type": "display_data"
    }
   ],
   "source": [
    "fig = plt.figure(figsize=(9, 15))\n",
    "fig.subplots_adjust(left=0, right=1)\n",
    "\n",
    "for i in range(9):\n",
    "    ax = fig.add_subplot(1, 9, i+1, xticks=[], yticks=[])\n",
    "    index = np.random.randint(0, len(X_validation))\n",
    "    ax.set_title(str(np.argmax(Y_validation[index])))\n",
    "    ax.imshow(X_validation[index].reshape(28, 28), cmap='gray')"
   ]
  },
  {
   "cell_type": "code",
   "execution_count": null,
   "metadata": {},
   "outputs": [],
   "source": []
  }
 ],
 "metadata": {
  "kernelspec": {
   "display_name": "Python 3",
   "language": "python",
   "name": "python3"
  },
  "language_info": {
   "codemirror_mode": {
    "name": "ipython",
    "version": 3
   },
   "file_extension": ".py",
   "mimetype": "text/x-python",
   "name": "python",
   "nbconvert_exporter": "python",
   "pygments_lexer": "ipython3",
   "version": "3.5.2"
  }
 },
 "nbformat": 4,
 "nbformat_minor": 2
}
